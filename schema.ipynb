{
 "cells": [
  {
   "cell_type": "code",
   "execution_count": 28,
   "metadata": {},
   "outputs": [],
   "source": [
    "# A small proof of concept for parsing papers into a schema\n",
    "# Crazy new tech. I see prompt engineering as a kind of #dataprep. \n",
    "\n",
    "from langchain.document_loaders import PyPDFLoader\n",
    "\n",
    "# read paper and split into pages\n",
    "loader = PyPDFLoader(\"zoog.pdf\")\n",
    "pages = loader.load_and_split()"
   ]
  },
  {
   "cell_type": "code",
   "execution_count": 62,
   "metadata": {},
   "outputs": [],
   "source": [
    "from langchain import PromptTemplate\n",
    "\n",
    "qalmri_template = \"\"\"\n",
    "\n",
    "As a language model, your task is to classify sections of text within a research paper according to the QALMRI schema. \n",
    "The QALMRI schema is a framework designed to help readers make sense of research papers by breaking them down into their key components. \n",
    "The acronym QALMRI stands for Question, Approach, Logic, Method, Results, and Inference. Here's a brief overview of each component:\n",
    "\n",
    "Question (Q): The research question or problem that the study aims to address. It is typically stated in the introduction section of the paper and may be a hypothesis or a set of related questions. It must be infered from the text, as it is not explicitly stated in the section.\n",
    "Approach (A): The strategy or theoretical framework the researchers use to address the research question. This may include the perspective or lens through which they view the problem and the assumptions they make.\n",
    "Logic (L): The rationale or reasoning behind the research design and the approach taken. This includes the researchers' explanation of why their approach is suitable for addressing the research question and how it relates to existing literature.\n",
    "Method (M): The specific procedures and techniques used to collect and analyze data in the study. This may include the study design, sample selection, data collection methods, and data analysis techniques.\n",
    "Results (R): The findings or outcomes of the study, often presented in the form of data, tables, or figures. This section should provide a clear and concise summary of the results, highlighting the most important findings.\n",
    "Inference (I): The conclusions and interpretations drawn from the results. This section should discuss the implications of the findings, address any limitations of the study, and suggest areas for future research.\n",
    "\n",
    "For example, after reading a section of a research paper, your classification might look like this, though you must not restate this information in your response:\n",
    "\n",
    "Question (Q): \"What is the impact of social media on adolescents' mental health?\" \n",
    "Approach (A): Researchers used a longitudinal study to examine the relationship between social media use and mental health outcomes in adolescents. \n",
    "Logic (L): The study builds upon previous research that suggests a correlation between social media use and mental health issues, and aims to provide further evidence to support or refute this relationship. \n",
    "Method (M): The study included a sample of 500 adolescents, who were surveyed on their social media use and mental health symptoms at three time points over a two-year period. \n",
    "Results (R): Results indicate a significant positive correlation between social media use and symptoms of depression and anxiety in adolescents.\n",
    "Inference (I): The findings suggest that increased social media use may contribute to poorer mental health outcomes in adolescents, highlighting the need for further research and intervention strategies. \n",
    "\n",
    "To complete this classification task, carefully read the section below and infer which it belongs to. If it is unclear which component the section belongs to, you may choose to classify it as \"Other\" but not \"None\". \n",
    "Make sure to provide a brief summary or quote for each component. Be thorough and precise in your classification, as this will help readers better understand and engage with the research paper.\n",
    "\n",
    "{section}\n",
    "\n",
    "\\n\n",
    "\"\"\"\n",
    "\n",
    "qalmri_prompt = PromptTemplate(\n",
    "    input_variables=[\"section\"],\n",
    "    template = qalmri_template\n",
    ")"
   ]
  },
  {
   "cell_type": "code",
   "execution_count": 67,
   "metadata": {},
   "outputs": [
    {
     "name": "stdout",
     "output_type": "stream",
     "text": [
      "Other: This section of the paper discusses previous research that has used satellite observations of ozone and related species to monitor and attribute background surface ozone.\n",
      "Other: This section provides a list of references to previous research conducted on the topic of ozone and air quality, as well as to the models and instruments used in the current study.\n",
      "Other: This section of the paper provides a list of citations for articles relevant to the study, including details on authors, titles, journal, and dates of publication. These citations are used to support the researchers' approach and provide evidence for their claims.\n",
      "Other: This section provides an overview of the limitations of the study and the potential implications of the results. It also acknowledges the support of the NASA Earth Science Division and a NASA Earth and Space Science Fellowship for the research.\n",
      "Other: This section provides citations for various studies related to the research topic, including details such as the authors, title, journal, year, and DOI. These studies are likely to be consulted for further information or used to support the research findings.\n",
      "Other: The section provides a list of references providing evidence on the topic of measurement of western US baseline ozone from the surface to the tropopause and assessment of downwind impact regions. The references listed are research papers which discuss the methodology and results of various studies conducted on the topic.\n",
      "Other: This section outlines the OSSE framework used to evaluate the potential of geostationary ozone measurements from TEMPO to improve monitoring of ozone NAAQS exceedances in the Intermountain West. It includes a description of the simulation models, the present and future observing systems, the data assimilation system, and the quantification of the error correlation length scales.\n",
      "Inference (I): The results suggest that adding TEMPO satellite observations can almost fully correct the bias and captures most of the spatial distribution of high-ozone events (R2=0.82). This highlights the importance of geostationary satellite data in capturing high-ozone events.\n",
      "Other: The authors provide background information regarding the US Environmental Protection Agency's consideration of lowering the National Ambient Air Quality Standard (NAAQS) of 75ppbv to a value in the range of 60–70ppbv, as well as the increasing free tropospheric ozone over the Western US. They also describe the interest in using satellite observations of ozone and related species to monitor and attribute background surface ozone.\n",
      "Other: This section provides information about the instrumentation and methods used to generate synthetic geostationary observations for a study. It includes details about the spectral range and resolution assumed by the study, as well as the parameters used to generate the averaging kernel matrix. It also mentions that the assumed albedo may be lower than the actual albedo, which could lead to an underestimation of TEMPO sensitivity to near-surface ozone.\n",
      "Method (M): The researchers used a priori model bias, data assimilation, and a geostationary satellite instrument to improve the monitoring of high-ozone events in the Intermountain West. They surveyed surface MDA8 ozone variability and the distribution of high-ozone days, and used the vertical distribution of ozone to diagnose NAAQS exceedances.\n",
      "Other: The section provides an overview of the experiment conducted, which includes the use of GEOS-Chem model, synthetic CASTNet and TEMPO data, and GFDL AM3 model to examine the impact of a stratospheric intrusion on 13 June in northern New Mexico. It also discusses the potential for TEMPO observations to help designate exceptional events.\n",
      "Method (M): The study used a limited-dimension column-by-column approach to solve for the model error covariance matrix and included only measurements at a horizontal distance of less than 510 km. Error correlation length scales were also computed using in situ observations at different sites in the Intermountain West and ozonesonde profiles to define the horizontal and vertical scales respectively.\n",
      "Other: This section of the paper describes the data assimilation system used to optimize a 3-D tropospheric ozone concentration state vector over the North American domain, using surface and satellite observations. It explains how the observation operator is used to map the model forecast to the observations and how the gain matrix is calculated to determine the relative weight given to observations and the model. It also discusses how the model error covariance matrix is initialized and updated at each assimilation time step.\n",
      "Other: The section describes the error correlation length scales for the GEOS-Chem model simulation of tropospheric ozone in the US Intermountain West, which were derived from CASTNet and ozonesonde observations as well as the GFDL AM3 model sampled in the region. It also outlines the data assimilation system used to monitor daily MDA8 ozone in the Intermountain West and the results of assimilation of synthetic CASTNet, TEMPO, and IASI-3 LEO observations.\n",
      "Other: This section provides an overview of the forward model for data assimilation used in the study, which is the GEOS-Chem CTM (Bey et al., 2001; http://www.geos-chem.org ) driven by GEOS assimilated meteorological data. It also outlines the characteristics of the two models used in the OSSE (GEOS-Chem and GFDL AM3) and provides a comparison of their maximum daily average 8h (MDA8) ozone concentrations in surface air, averaged over April-June 2010.\n",
      "Other: This section provides an overview of the current air quality monitoring system in the US Intermountain West, with a focus on the limitations of existing monitoring techniques and potential advantages of using geostationary satellites. It explains that the region is prone to high background ozone levels due to high elevation and arid terrain, and that high ozone concentrations can lead to NAAQS exceedances. It also mentions the use of chemical transport models and one chemistry-climate model to estimate the North American background ozone, and the differences between the models.\n",
      "Other: The authors of this section are presenting their findings from their OSSE (Observing System Simulation Experiment) to inform the TEMPO observing strategy. They used two global 3D ozone models with around 50km horizontal resolution, one as the \"true\" atmosphere and one as the forward model for data assimilation. They also included in their OSSE surface measurements from the current CASTNet monitoring network sites in the Intermountain West and satellite measurements from a TIR LEO instrument projected to be in orbit concurrently with TEMPO. The authors found that the CASTNet surface observations are too sparse to adequately monitor high-ozone events in the Intermountain West even after data assimilation, and that TEMPO geostationary observations can provide a much more detailed and accurate representation of the atmosphere.\n",
      "Other: This section provides an overview of the observational system and synthetic observations that will be used to monitor high-ozone events in the US Intermountain West. It includes the use of surface measurements, LEO satellite measurements, and TEMPO geostationary satellite measurements. It also discusses the assumptions made regarding the LEO and TEMPO instruments, and details the expected characteristics of the Infrared Atmospheric Sounding Interferometer (IASI) instrument and the TROPOspheric Monitoring Instrument (TROPOMI). It provides information on the CASTNet surface sites used for background monitoring, along with the instrument error and representation error associated with CASTNet data. It also explains the retrieval of vertical concentration profiles from the TEMPO and IASI-3 satellites and presents the degrees of freedom for signal below various pressure levels.\n",
      "Other: The authors are using an Observing System Simulation Experiment (OSSE) to assess the information to be gained by data assimilation from adding a new instrument to an existing observing system. They are using a model to generate synthetic time-varying 3D fields of concentrations as the “true” atmosphere, and the virtual sampling of this “true” atmosphere by the different instruments composing the observing system for data assimilation. The virtual observations are then assimilated in a second model and the results of the assimilation are compared to the “true” atmosphere to assess the value of the new instrument. The authors are using the GFDL AM3 global chemistry-climate model with horizontal resolution of 1/2° x 5/8° (latitude x longitude) nudged to reanalysis winds as the “true” atmosphere and the GEOS-Chem CTM driven by GEOS assimilated meteorological data from the NASA Goddard Earth Observing System (GEOS) as the forward model for data assimilation.\n",
      "\u001b[1mConcurrent executed in 10.31 seconds.\u001b[0m\n"
     ]
    }
   ],
   "source": [
    "from langchain.llms import OpenAI\n",
    "from langchain.chains import LLMChain\n",
    "import asyncio\n",
    "import time\n",
    "\n",
    "resps  = []\n",
    "\n",
    "async def async_generate(chain, section):\n",
    "    resp = await chain.arun(section=section)\n",
    "    print(resp)\n",
    "    resps.append(resp)\n",
    "\n",
    "async def generate_concurrently():\n",
    "    llm = OpenAI()\n",
    "    chain = LLMChain(llm=llm, prompt=qalmri_prompt) \n",
    "\n",
    "    tasks = [async_generate(chain, page.page_content) for page in pages]\n",
    "    await asyncio.gather(*tasks)\n",
    "\n",
    "s = time.perf_counter()\n",
    "await generate_concurrently()\n",
    "elapsed = time.perf_counter() - s\n",
    "print('\\033[1m' + f\"Concurrent executed in {elapsed:0.2f} seconds.\" + '\\033[0m')"
   ]
  }
 ],
 "metadata": {
  "kernelspec": {
   "display_name": "Python 3",
   "language": "python",
   "name": "python3"
  },
  "language_info": {
   "codemirror_mode": {
    "name": "ipython",
    "version": 3
   },
   "file_extension": ".py",
   "mimetype": "text/x-python",
   "name": "python",
   "nbconvert_exporter": "python",
   "pygments_lexer": "ipython3",
   "version": "3.10.10"
  },
  "orig_nbformat": 4
 },
 "nbformat": 4,
 "nbformat_minor": 2
}
